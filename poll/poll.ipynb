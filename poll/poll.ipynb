{
 "cells": [
  {
   "cell_type": "code",
   "execution_count": 171,
   "metadata": {},
   "outputs": [],
   "source": [
    "import matplotlib.pyplot as plt\n",
    "import numpy as np\n",
    "from matplotlib import font_manager,  rc,  style"
   ]
  },
  {
   "cell_type": "code",
   "execution_count": 172,
   "metadata": {},
   "outputs": [],
   "source": [
    "font_path = \"C:/Windows/Fonts/NanumGothic.TTF\"\n",
    "font_name = font_manager.FontProperties(fname=font_path).get_name()\n",
    "rc('font',  family=font_name)"
   ]
  },
  {
   "cell_type": "code",
   "execution_count": 173,
   "metadata": {},
   "outputs": [],
   "source": [
    "# style.use('ggplot')"
   ]
  },
  {
   "cell_type": "code",
   "execution_count": 181,
   "metadata": {},
   "outputs": [],
   "source": [
    "voices = ['작은',  '큰',  '속도가 빠른',  '미성',  '중저음',  '허스키한',  '울먹거리는',  '걸걸한',  '엄근진',  '퇴폐적인',  '콧소리',  '감정이 없는',  '하이톤',  '퉁명스러운',  '냉소적인',  '웅얼웅얼',  '앵앵거리는',  '날카로운',  '사나운',  '쏘는듯한']\n",
    "count = [0,  0,  0,  0,  1,  1,  1,  1,  2,  2,  2,  3,  4,  4,  5,  6,  6,  10,  11,  13]"
   ]
  },
  {
   "cell_type": "code",
   "execution_count": 182,
   "metadata": {
    "scrolled": true
   },
   "outputs": [
    {
     "data": {
      "text/plain": [
       "([<matplotlib.axis.YTick at 0x26de85c7d68>, \n",
       "  <matplotlib.axis.YTick at 0x26de85c7710>, \n",
       "  <matplotlib.axis.YTick at 0x26de85c04e0>, \n",
       "  <matplotlib.axis.YTick at 0x26de8619400>, \n",
       "  <matplotlib.axis.YTick at 0x26de8619470>, \n",
       "  <matplotlib.axis.YTick at 0x26de8619ac8>, \n",
       "  <matplotlib.axis.YTick at 0x26de86260b8>, \n",
       "  <matplotlib.axis.YTick at 0x26de86262e8>, \n",
       "  <matplotlib.axis.YTick at 0x26de8626908>, \n",
       "  <matplotlib.axis.YTick at 0x26de8630358>, \n",
       "  <matplotlib.axis.YTick at 0x26de8630588>, \n",
       "  <matplotlib.axis.YTick at 0x26de8630c50>, \n",
       "  <matplotlib.axis.YTick at 0x26de8626e48>, \n",
       "  <matplotlib.axis.YTick at 0x26de863a198>, \n",
       "  <matplotlib.axis.YTick at 0x26de863a048>, \n",
       "  <matplotlib.axis.YTick at 0x26de863a7b8>, \n",
       "  <matplotlib.axis.YTick at 0x26de8643208>, \n",
       "  <matplotlib.axis.YTick at 0x26de8643438>, \n",
       "  <matplotlib.axis.YTick at 0x26de8643a58>, \n",
       "  <matplotlib.axis.YTick at 0x26de863aeb8>], \n",
       " [Text(0,  0,  '작은'), \n",
       "  Text(0,  1,  '큰'), \n",
       "  Text(0,  2,  '속도가 빠른'), \n",
       "  Text(0,  3,  '미성'), \n",
       "  Text(0,  4,  '중저음'), \n",
       "  Text(0,  5,  '허스키한'), \n",
       "  Text(0,  6,  '울먹거리는'), \n",
       "  Text(0,  7,  '걸걸한'), \n",
       "  Text(0,  8,  '엄근진'), \n",
       "  Text(0,  9,  '퇴폐적인'), \n",
       "  Text(0,  10,  '콧소리'), \n",
       "  Text(0,  11,  '감정이 없는'), \n",
       "  Text(0,  12,  '하이톤'), \n",
       "  Text(0,  13,  '퉁명스러운'), \n",
       "  Text(0,  14,  '냉소적인'), \n",
       "  Text(0,  15,  '웅얼웅얼'), \n",
       "  Text(0,  16,  '앵앵거리는'), \n",
       "  Text(0,  17,  '날카로운'), \n",
       "  Text(0,  18,  '사나운'), \n",
       "  Text(0,  19,  '쏘는듯한')])"
      ]
     },
     "execution_count": 182,
     "metadata": {},
     "output_type": "execute_result"
    },
    {
     "data": {
      "image/png": "[encoded data removed]",
      "text/plain": [
       "<Figure size 432x288 with 1 Axes>"
      ]
     },
     "metadata": {},
     "output_type": "display_data"
    }
   ],
   "source": [
    "ypos = np.arange(20)\n",
    "rects = plt.barh(ypos,  count,  color=\"dodgerblue\",  align='center',  height=0.5)\n",
    "plt.yticks(ypos,  voices)"
   ]
  },
  {
   "cell_type": "code",
   "execution_count": 178,
   "metadata": {},
   "outputs": [],
   "source": []
  }
 ],
 "metadata": {
  "kernelspec": {
   "display_name": "Python 3 (ipykernel)",
   "language": "python",
   "name": "python3"
  },
  "language_info": {
   "codemirror_mode": {
    "name": "ipython",
    "version": 3
   },
   "file_extension": ".py",
   "mimetype": "text/x-python",
   "name": "python",
   "nbconvert_exporter": "python",
   "pygments_lexer": "ipython3",
   "version": "3.7.0"
  }
 },
 "nbformat": 4,
 "nbformat_minor": 1
}
